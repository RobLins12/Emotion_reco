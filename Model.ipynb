{
 "cells": [
  {
   "cell_type": "code",
   "execution_count": 1,
   "metadata": {},
   "outputs": [
    {
     "name": "stderr",
     "output_type": "stream",
     "text": [
      "WARNING:absl:Compiled the loaded model, but the compiled metrics have yet to be built. `model.compile_metrics` will be empty until you train or evaluate the model.\n",
      "WARNING:absl:Error in loading the saved optimizer state. As a result, your model is starting with a freshly initialized optimizer.\n"
     ]
    }
   ],
   "source": [
    "from tensorflow.keras.models import load_model\n",
    "loaded_model = load_model(\"model.h5\")"
   ]
  },
  {
   "cell_type": "code",
   "execution_count": 2,
   "metadata": {},
   "outputs": [],
   "source": [
    "import numpy as np\n",
    "from tensorflow import keras\n",
    "from tensorflow.keras import layers\n",
    "from tensorflow.keras.preprocessing.image import ImageDataGenerator\n",
    "from tensorflow.keras.preprocessing import image"
   ]
  },
  {
   "cell_type": "code",
   "execution_count": 3,
   "metadata": {},
   "outputs": [],
   "source": [
    "# abrir uma imagem individual, fazer redimensionamento, normalização...\n",
    "def load_and_preprocess_image(img_path):\n",
    "    img = image.load_img(img_path, target_size=(150, 150))\n",
    "    img_array = image.img_to_array(img)\n",
    "    img_array = np.expand_dims(img_array, axis=0)\n",
    "    img_array /= 255.\n",
    "    return img_array, img\n",
    "\n",
    "# prever a classe da imagem pré-processada utilizando o modelo treinado\n",
    "# exibir a classe predita\n",
    "def emotion_prediction(img_path, model):\n",
    "    img_array, img = load_and_preprocess_image(img_path)\n",
    "    prediction = model.predict(img_array)\n",
    "    max_value = np.max(prediction)\n",
    "    position = np.argmax(prediction)\n",
    "    emotion = \"\"\n",
    "    match position:\n",
    "      case 0:\n",
    "        emotion = \"Raiva\"\n",
    "      case 1:\n",
    "        emotion = \"Nojo\"\n",
    "      case 2:\n",
    "        emotion = \"Medo\"\n",
    "      case 3:\n",
    "        emotion = \"Feliz\"\n",
    "      case 4:\n",
    "        emotion = \"Neutro\"\n",
    "      case 5:\n",
    "        emotion = \"Triste\"\n",
    "      case 6:\n",
    "        emotion = \"Surpresa\"\n",
    "        \n",
    "    return prediction, emotion"
   ]
  },
  {
   "cell_type": "code",
   "execution_count": 12,
   "metadata": {},
   "outputs": [
    {
     "name": "stdout",
     "output_type": "stream",
     "text": [
      "\u001b[1m1/1\u001b[0m \u001b[32m━━━━━━━━━━━━━━━━━━━━\u001b[0m\u001b[37m\u001b[0m \u001b[1m1s\u001b[0m 597ms/step\n"
     ]
    },
    {
     "data": {
      "text/plain": [
       "(array([[7.8984289e-05, 2.9235464e-06, 1.8981562e-04, 9.9143445e-01,\n",
       "         1.6313953e-03, 5.2364143e-03, 1.4260354e-03]], dtype=float32),\n",
       " 'Feliz')"
      ]
     },
     "execution_count": 12,
     "metadata": {},
     "output_type": "execute_result"
    }
   ],
   "source": [
    "path = \"ImagensTeste/triste.png\"\n",
    "\n",
    "predict, emotion = emotion_prediction(path, loaded_model)\n",
    "\n",
    "predict, emotion"
   ]
  }
 ],
 "metadata": {
  "kernelspec": {
   "display_name": "Python 3",
   "language": "python",
   "name": "python3"
  },
  "language_info": {
   "codemirror_mode": {
    "name": "ipython",
    "version": 3
   },
   "file_extension": ".py",
   "mimetype": "text/x-python",
   "name": "python",
   "nbconvert_exporter": "python",
   "pygments_lexer": "ipython3",
   "version": "3.12.0"
  }
 },
 "nbformat": 4,
 "nbformat_minor": 2
}
